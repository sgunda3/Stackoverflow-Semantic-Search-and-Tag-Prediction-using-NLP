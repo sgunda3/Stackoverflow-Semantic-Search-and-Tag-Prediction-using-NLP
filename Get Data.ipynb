{
 "cells": [
  {
   "cell_type": "markdown",
   "metadata": {},
   "source": [
    "# The Task"
   ]
  },
  {
   "cell_type": "markdown",
   "metadata": {},
   "source": [
    "As per the problem statement, I am required to return the closest questions as per a user's query. Thus in order to understand and learn from the data, I need to gather Questions and Answers that were posted on Stack Overflow. Thus what I need are the following: \n",
    "\n",
    "- Title \n",
    "- Question body\n",
    "- Answers for that question\n",
    "- Votes for each answers\n",
    "\n",
    "Due to the sheer abundance of data on Stack Overflow and better sanity checks, I restricted the data to only \"Python\" related questions. However, the entire process in reproducible for other topics as well"
   ]
  },
  {
   "cell_type": "markdown",
   "metadata": {},
   "source": [
    "# Data Collection"
   ]
  },
  {
   "cell_type": "markdown",
   "metadata": {},
   "source": [
    "**Google BigQuery** dataset includes an archive of Stack Overflow content, including posts, votes, tags, and badges. This dataset is updated to mirror the Stack Overflow content on the Internet Archive, and is also available through the Stack Exchange Data Explorer. More info about the dataset is given at: https://www.kaggle.com/stackoverflow/stackoverflow\n",
    "\n",
    "- **bq_helper** is a helper class to perform read-only BigQuery Tasks\n",
    "- There are many tables on the Stackoverflow database, but we only need concern ourselves with **posts_questions** and **posts_answers**\n",
    "\n",
    "The query the retrive the required data is *SELECT q.id, q.title, q.body, q.tags, a.body as answers, a.score FROM 'bigquery-public-data.stackoverflow.posts_questions' AS q INNER JOIN 'bigquery-public-data.stackoverflow.posts_answers' AS a ON q.id = a.parent_id WHERE q.tags LIKE '%python%' LIMIT 500000*\n",
    "\n",
    "1. **SELECT q.id, q.title, q.body, q.tags, a.body as answers, a.score**: Retreives the required columns for the data set\n",
    "2. **'bigquery-public-data.stackoverflow.posts_questions' AS q INNER JOIN 'bigquery-public-data.stackoverflow.posts_answers' AS a ON q.id = a.parent_id**: This joins the two tables based on the Question ID. Question ID is stored as **id** in \"posts_questions\" and as **parent_id** in \"posts_answers\"\n",
    "3. **WHERE q.tags LIKE '%python%'**: To restrict data to only python related questions\n",
    "4. **LIMIT 500000**: In order to collect not more than 500,000 data points for faster processing "
   ]
  },
  {
   "cell_type": "code",
   "execution_count": 1,
   "metadata": {},
   "outputs": [
    {
     "ename": "DefaultCredentialsError",
     "evalue": "File credentials.json was not found.",
     "output_type": "error",
     "traceback": [
      "\u001b[1;31m---------------------------------------------------------------------------\u001b[0m",
      "\u001b[1;31mDefaultCredentialsError\u001b[0m                   Traceback (most recent call last)",
      "\u001b[1;32m<ipython-input-1-cf60ab1f23e7>\u001b[0m in \u001b[0;36m<module>\u001b[1;34m\u001b[0m\n\u001b[0;32m      5\u001b[0m \u001b[1;33m\u001b[0m\u001b[0m\n\u001b[0;32m      6\u001b[0m \u001b[0mos\u001b[0m\u001b[1;33m.\u001b[0m\u001b[0menviron\u001b[0m\u001b[1;33m[\u001b[0m\u001b[1;34m\"GOOGLE_APPLICATION_CREDENTIALS\"\u001b[0m\u001b[1;33m]\u001b[0m\u001b[1;33m=\u001b[0m\u001b[1;34m\"credentials.json\"\u001b[0m\u001b[1;33m\u001b[0m\u001b[1;33m\u001b[0m\u001b[0m\n\u001b[1;32m----> 7\u001b[1;33m \u001b[0mbq_assistant\u001b[0m \u001b[1;33m=\u001b[0m \u001b[0mBigQueryHelper\u001b[0m\u001b[1;33m(\u001b[0m\u001b[1;34m\"bigquery-public-data\"\u001b[0m\u001b[1;33m,\u001b[0m \u001b[1;34m\"stackoverflow\"\u001b[0m\u001b[1;33m)\u001b[0m\u001b[1;33m\u001b[0m\u001b[1;33m\u001b[0m\u001b[0m\n\u001b[0m\u001b[0;32m      8\u001b[0m \u001b[1;33m\u001b[0m\u001b[0m\n\u001b[0;32m      9\u001b[0m \u001b[0mQUERY\u001b[0m \u001b[1;33m=\u001b[0m \u001b[1;34m\"SELECT q.id, q.title, q.body, q.tags, a.body as answers, a.score FROM `bigquery-public-data.stackoverflow.posts_questions` AS q INNER JOIN `bigquery-public-data.stackoverflow.posts_answers` AS a ON q.id = a.parent_id WHERE q.tags LIKE '%python%' LIMIT 500000\"\u001b[0m\u001b[1;33m\u001b[0m\u001b[1;33m\u001b[0m\u001b[0m\n",
      "\u001b[1;32mc:\\users\\sai ganesh reddy\\src\\bq-helper\\bq_helper.py\u001b[0m in \u001b[0;36m__init__\u001b[1;34m(self, active_project, dataset_name, max_wait_seconds)\u001b[0m\n\u001b[0;32m     23\u001b[0m         \u001b[0mself\u001b[0m\u001b[1;33m.\u001b[0m\u001b[0mdataset_name\u001b[0m \u001b[1;33m=\u001b[0m \u001b[0mdataset_name\u001b[0m\u001b[1;33m\u001b[0m\u001b[1;33m\u001b[0m\u001b[0m\n\u001b[0;32m     24\u001b[0m         \u001b[0mself\u001b[0m\u001b[1;33m.\u001b[0m\u001b[0mmax_wait_seconds\u001b[0m \u001b[1;33m=\u001b[0m \u001b[0mmax_wait_seconds\u001b[0m\u001b[1;33m\u001b[0m\u001b[1;33m\u001b[0m\u001b[0m\n\u001b[1;32m---> 25\u001b[1;33m         \u001b[0mself\u001b[0m\u001b[1;33m.\u001b[0m\u001b[0mclient\u001b[0m \u001b[1;33m=\u001b[0m \u001b[0mbigquery\u001b[0m\u001b[1;33m.\u001b[0m\u001b[0mClient\u001b[0m\u001b[1;33m(\u001b[0m\u001b[1;33m)\u001b[0m\u001b[1;33m\u001b[0m\u001b[1;33m\u001b[0m\u001b[0m\n\u001b[0m\u001b[0;32m     26\u001b[0m         \u001b[0mself\u001b[0m\u001b[1;33m.\u001b[0m\u001b[0m__dataset_ref\u001b[0m \u001b[1;33m=\u001b[0m \u001b[0mself\u001b[0m\u001b[1;33m.\u001b[0m\u001b[0mclient\u001b[0m\u001b[1;33m.\u001b[0m\u001b[0mdataset\u001b[0m\u001b[1;33m(\u001b[0m\u001b[0mself\u001b[0m\u001b[1;33m.\u001b[0m\u001b[0mdataset_name\u001b[0m\u001b[1;33m,\u001b[0m \u001b[0mproject\u001b[0m\u001b[1;33m=\u001b[0m\u001b[0mself\u001b[0m\u001b[1;33m.\u001b[0m\u001b[0mproject_name\u001b[0m\u001b[1;33m)\u001b[0m\u001b[1;33m\u001b[0m\u001b[1;33m\u001b[0m\u001b[0m\n\u001b[0;32m     27\u001b[0m         \u001b[0mself\u001b[0m\u001b[1;33m.\u001b[0m\u001b[0mdataset\u001b[0m \u001b[1;33m=\u001b[0m \u001b[1;32mNone\u001b[0m\u001b[1;33m\u001b[0m\u001b[1;33m\u001b[0m\u001b[0m\n",
      "\u001b[1;32mC:\\anaconda3\\lib\\site-packages\\google\\cloud\\bigquery\\client.py\u001b[0m in \u001b[0;36m__init__\u001b[1;34m(self, project, credentials, _http, location, default_query_job_config, client_info, client_options)\u001b[0m\n\u001b[0;32m    173\u001b[0m     ):\n\u001b[0;32m    174\u001b[0m         super(Client, self).__init__(\n\u001b[1;32m--> 175\u001b[1;33m             \u001b[0mproject\u001b[0m\u001b[1;33m=\u001b[0m\u001b[0mproject\u001b[0m\u001b[1;33m,\u001b[0m \u001b[0mcredentials\u001b[0m\u001b[1;33m=\u001b[0m\u001b[0mcredentials\u001b[0m\u001b[1;33m,\u001b[0m \u001b[0m_http\u001b[0m\u001b[1;33m=\u001b[0m\u001b[0m_http\u001b[0m\u001b[1;33m\u001b[0m\u001b[1;33m\u001b[0m\u001b[0m\n\u001b[0m\u001b[0;32m    176\u001b[0m         )\n\u001b[0;32m    177\u001b[0m \u001b[1;33m\u001b[0m\u001b[0m\n",
      "\u001b[1;32mC:\\anaconda3\\lib\\site-packages\\google\\cloud\\client.py\u001b[0m in \u001b[0;36m__init__\u001b[1;34m(self, project, credentials, _http)\u001b[0m\n\u001b[0;32m    224\u001b[0m \u001b[1;33m\u001b[0m\u001b[0m\n\u001b[0;32m    225\u001b[0m     \u001b[1;32mdef\u001b[0m \u001b[0m__init__\u001b[0m\u001b[1;33m(\u001b[0m\u001b[0mself\u001b[0m\u001b[1;33m,\u001b[0m \u001b[0mproject\u001b[0m\u001b[1;33m=\u001b[0m\u001b[1;32mNone\u001b[0m\u001b[1;33m,\u001b[0m \u001b[0mcredentials\u001b[0m\u001b[1;33m=\u001b[0m\u001b[1;32mNone\u001b[0m\u001b[1;33m,\u001b[0m \u001b[0m_http\u001b[0m\u001b[1;33m=\u001b[0m\u001b[1;32mNone\u001b[0m\u001b[1;33m)\u001b[0m\u001b[1;33m:\u001b[0m\u001b[1;33m\u001b[0m\u001b[1;33m\u001b[0m\u001b[0m\n\u001b[1;32m--> 226\u001b[1;33m         \u001b[0m_ClientProjectMixin\u001b[0m\u001b[1;33m.\u001b[0m\u001b[0m__init__\u001b[0m\u001b[1;33m(\u001b[0m\u001b[0mself\u001b[0m\u001b[1;33m,\u001b[0m \u001b[0mproject\u001b[0m\u001b[1;33m=\u001b[0m\u001b[0mproject\u001b[0m\u001b[1;33m)\u001b[0m\u001b[1;33m\u001b[0m\u001b[1;33m\u001b[0m\u001b[0m\n\u001b[0m\u001b[0;32m    227\u001b[0m         \u001b[0mClient\u001b[0m\u001b[1;33m.\u001b[0m\u001b[0m__init__\u001b[0m\u001b[1;33m(\u001b[0m\u001b[0mself\u001b[0m\u001b[1;33m,\u001b[0m \u001b[0mcredentials\u001b[0m\u001b[1;33m=\u001b[0m\u001b[0mcredentials\u001b[0m\u001b[1;33m,\u001b[0m \u001b[0m_http\u001b[0m\u001b[1;33m=\u001b[0m\u001b[0m_http\u001b[0m\u001b[1;33m)\u001b[0m\u001b[1;33m\u001b[0m\u001b[1;33m\u001b[0m\u001b[0m\n",
      "\u001b[1;32mC:\\anaconda3\\lib\\site-packages\\google\\cloud\\client.py\u001b[0m in \u001b[0;36m__init__\u001b[1;34m(self, project)\u001b[0m\n\u001b[0;32m    176\u001b[0m \u001b[1;33m\u001b[0m\u001b[0m\n\u001b[0;32m    177\u001b[0m     \u001b[1;32mdef\u001b[0m \u001b[0m__init__\u001b[0m\u001b[1;33m(\u001b[0m\u001b[0mself\u001b[0m\u001b[1;33m,\u001b[0m \u001b[0mproject\u001b[0m\u001b[1;33m=\u001b[0m\u001b[1;32mNone\u001b[0m\u001b[1;33m)\u001b[0m\u001b[1;33m:\u001b[0m\u001b[1;33m\u001b[0m\u001b[1;33m\u001b[0m\u001b[0m\n\u001b[1;32m--> 178\u001b[1;33m         \u001b[0mproject\u001b[0m \u001b[1;33m=\u001b[0m \u001b[0mself\u001b[0m\u001b[1;33m.\u001b[0m\u001b[0m_determine_default\u001b[0m\u001b[1;33m(\u001b[0m\u001b[0mproject\u001b[0m\u001b[1;33m)\u001b[0m\u001b[1;33m\u001b[0m\u001b[1;33m\u001b[0m\u001b[0m\n\u001b[0m\u001b[0;32m    179\u001b[0m         \u001b[1;32mif\u001b[0m \u001b[0mproject\u001b[0m \u001b[1;32mis\u001b[0m \u001b[1;32mNone\u001b[0m\u001b[1;33m:\u001b[0m\u001b[1;33m\u001b[0m\u001b[1;33m\u001b[0m\u001b[0m\n\u001b[0;32m    180\u001b[0m             raise EnvironmentError(\n",
      "\u001b[1;32mC:\\anaconda3\\lib\\site-packages\\google\\cloud\\client.py\u001b[0m in \u001b[0;36m_determine_default\u001b[1;34m(project)\u001b[0m\n\u001b[0;32m    191\u001b[0m     \u001b[1;32mdef\u001b[0m \u001b[0m_determine_default\u001b[0m\u001b[1;33m(\u001b[0m\u001b[0mproject\u001b[0m\u001b[1;33m)\u001b[0m\u001b[1;33m:\u001b[0m\u001b[1;33m\u001b[0m\u001b[1;33m\u001b[0m\u001b[0m\n\u001b[0;32m    192\u001b[0m         \u001b[1;34m\"\"\"Helper:  use default project detection.\"\"\"\u001b[0m\u001b[1;33m\u001b[0m\u001b[1;33m\u001b[0m\u001b[0m\n\u001b[1;32m--> 193\u001b[1;33m         \u001b[1;32mreturn\u001b[0m \u001b[0m_determine_default_project\u001b[0m\u001b[1;33m(\u001b[0m\u001b[0mproject\u001b[0m\u001b[1;33m)\u001b[0m\u001b[1;33m\u001b[0m\u001b[1;33m\u001b[0m\u001b[0m\n\u001b[0m\u001b[0;32m    194\u001b[0m \u001b[1;33m\u001b[0m\u001b[0m\n\u001b[0;32m    195\u001b[0m \u001b[1;33m\u001b[0m\u001b[0m\n",
      "\u001b[1;32mC:\\anaconda3\\lib\\site-packages\\google\\cloud\\_helpers.py\u001b[0m in \u001b[0;36m_determine_default_project\u001b[1;34m(project)\u001b[0m\n\u001b[0;32m    184\u001b[0m     \"\"\"\n\u001b[0;32m    185\u001b[0m     \u001b[1;32mif\u001b[0m \u001b[0mproject\u001b[0m \u001b[1;32mis\u001b[0m \u001b[1;32mNone\u001b[0m\u001b[1;33m:\u001b[0m\u001b[1;33m\u001b[0m\u001b[1;33m\u001b[0m\u001b[0m\n\u001b[1;32m--> 186\u001b[1;33m         \u001b[0m_\u001b[0m\u001b[1;33m,\u001b[0m \u001b[0mproject\u001b[0m \u001b[1;33m=\u001b[0m \u001b[0mgoogle\u001b[0m\u001b[1;33m.\u001b[0m\u001b[0mauth\u001b[0m\u001b[1;33m.\u001b[0m\u001b[0mdefault\u001b[0m\u001b[1;33m(\u001b[0m\u001b[1;33m)\u001b[0m\u001b[1;33m\u001b[0m\u001b[1;33m\u001b[0m\u001b[0m\n\u001b[0m\u001b[0;32m    187\u001b[0m     \u001b[1;32mreturn\u001b[0m \u001b[0mproject\u001b[0m\u001b[1;33m\u001b[0m\u001b[1;33m\u001b[0m\u001b[0m\n\u001b[0;32m    188\u001b[0m \u001b[1;33m\u001b[0m\u001b[0m\n",
      "\u001b[1;32mC:\\anaconda3\\lib\\site-packages\\google\\auth\\_default.py\u001b[0m in \u001b[0;36mdefault\u001b[1;34m(scopes, request)\u001b[0m\n\u001b[0;32m    306\u001b[0m \u001b[1;33m\u001b[0m\u001b[0m\n\u001b[0;32m    307\u001b[0m     \u001b[1;32mfor\u001b[0m \u001b[0mchecker\u001b[0m \u001b[1;32min\u001b[0m \u001b[0mcheckers\u001b[0m\u001b[1;33m:\u001b[0m\u001b[1;33m\u001b[0m\u001b[1;33m\u001b[0m\u001b[0m\n\u001b[1;32m--> 308\u001b[1;33m         \u001b[0mcredentials\u001b[0m\u001b[1;33m,\u001b[0m \u001b[0mproject_id\u001b[0m \u001b[1;33m=\u001b[0m \u001b[0mchecker\u001b[0m\u001b[1;33m(\u001b[0m\u001b[1;33m)\u001b[0m\u001b[1;33m\u001b[0m\u001b[1;33m\u001b[0m\u001b[0m\n\u001b[0m\u001b[0;32m    309\u001b[0m         \u001b[1;32mif\u001b[0m \u001b[0mcredentials\u001b[0m \u001b[1;32mis\u001b[0m \u001b[1;32mnot\u001b[0m \u001b[1;32mNone\u001b[0m\u001b[1;33m:\u001b[0m\u001b[1;33m\u001b[0m\u001b[1;33m\u001b[0m\u001b[0m\n\u001b[0;32m    310\u001b[0m             \u001b[0mcredentials\u001b[0m \u001b[1;33m=\u001b[0m \u001b[0mwith_scopes_if_required\u001b[0m\u001b[1;33m(\u001b[0m\u001b[0mcredentials\u001b[0m\u001b[1;33m,\u001b[0m \u001b[0mscopes\u001b[0m\u001b[1;33m)\u001b[0m\u001b[1;33m\u001b[0m\u001b[1;33m\u001b[0m\u001b[0m\n",
      "\u001b[1;32mC:\\anaconda3\\lib\\site-packages\\google\\auth\\_default.py\u001b[0m in \u001b[0;36m_get_explicit_environ_credentials\u001b[1;34m()\u001b[0m\n\u001b[0;32m    164\u001b[0m     \u001b[1;32mif\u001b[0m \u001b[0mexplicit_file\u001b[0m \u001b[1;32mis\u001b[0m \u001b[1;32mnot\u001b[0m \u001b[1;32mNone\u001b[0m\u001b[1;33m:\u001b[0m\u001b[1;33m\u001b[0m\u001b[1;33m\u001b[0m\u001b[0m\n\u001b[0;32m    165\u001b[0m         credentials, project_id = _load_credentials_from_file(\n\u001b[1;32m--> 166\u001b[1;33m             \u001b[0mos\u001b[0m\u001b[1;33m.\u001b[0m\u001b[0menviron\u001b[0m\u001b[1;33m[\u001b[0m\u001b[0menvironment_vars\u001b[0m\u001b[1;33m.\u001b[0m\u001b[0mCREDENTIALS\u001b[0m\u001b[1;33m]\u001b[0m\u001b[1;33m\u001b[0m\u001b[1;33m\u001b[0m\u001b[0m\n\u001b[0m\u001b[0;32m    167\u001b[0m         )\n\u001b[0;32m    168\u001b[0m \u001b[1;33m\u001b[0m\u001b[0m\n",
      "\u001b[1;32mC:\\anaconda3\\lib\\site-packages\\google\\auth\\_default.py\u001b[0m in \u001b[0;36m_load_credentials_from_file\u001b[1;34m(filename)\u001b[0m\n\u001b[0;32m     90\u001b[0m     \u001b[1;32mif\u001b[0m \u001b[1;32mnot\u001b[0m \u001b[0mos\u001b[0m\u001b[1;33m.\u001b[0m\u001b[0mpath\u001b[0m\u001b[1;33m.\u001b[0m\u001b[0mexists\u001b[0m\u001b[1;33m(\u001b[0m\u001b[0mfilename\u001b[0m\u001b[1;33m)\u001b[0m\u001b[1;33m:\u001b[0m\u001b[1;33m\u001b[0m\u001b[1;33m\u001b[0m\u001b[0m\n\u001b[0;32m     91\u001b[0m         raise exceptions.DefaultCredentialsError(\n\u001b[1;32m---> 92\u001b[1;33m             \u001b[1;34m\"File {} was not found.\"\u001b[0m\u001b[1;33m.\u001b[0m\u001b[0mformat\u001b[0m\u001b[1;33m(\u001b[0m\u001b[0mfilename\u001b[0m\u001b[1;33m)\u001b[0m\u001b[1;33m\u001b[0m\u001b[1;33m\u001b[0m\u001b[0m\n\u001b[0m\u001b[0;32m     93\u001b[0m         )\n\u001b[0;32m     94\u001b[0m \u001b[1;33m\u001b[0m\u001b[0m\n",
      "\u001b[1;31mDefaultCredentialsError\u001b[0m: File credentials.json was not found."
     ]
    }
   ],
   "source": [
    "\n",
    "import bq_helper\n",
    "\n",
    "from bq_helper import BigQueryHelper\n",
    "import os\n",
    "\n",
    "os.environ[\"GOOGLE_APPLICATION_CREDENTIALS\"]=\"credentials.json\"\n",
    "bq_assistant = BigQueryHelper(\"bigquery-public-data\", \"stackoverflow\")\n",
    "\n",
    "QUERY = \"SELECT q.id, q.title, q.body, q.tags, a.body as answers, a.score FROM `bigquery-public-data.stackoverflow.posts_questions` AS q INNER JOIN `bigquery-public-data.stackoverflow.posts_answers` AS a ON q.id = a.parent_id WHERE q.tags LIKE '%python%' LIMIT 500000\"\n",
    "df = bq_assistant.query_to_pandas(QUERY)\n",
    "df.to_csv('data/Original_data.csv')"
   ]
  },
  {
   "cell_type": "markdown",
   "metadata": {},
   "source": [
    "# Database Analysis and Pre-processing"
   ]
  },
  {
   "cell_type": "markdown",
   "metadata": {},
   "source": [
    "## Load Data"
   ]
  },
  {
   "cell_type": "code",
   "execution_count": 3,
   "metadata": {},
   "outputs": [
    {
     "ename": "ModuleNotFoundError",
     "evalue": "No module named 'spacy'",
     "output_type": "error",
     "traceback": [
      "\u001b[1;31m---------------------------------------------------------------------------\u001b[0m",
      "\u001b[1;31mModuleNotFoundError\u001b[0m                       Traceback (most recent call last)",
      "\u001b[1;32m<ipython-input-3-1fd1855a3eba>\u001b[0m in \u001b[0;36m<module>\u001b[1;34m\u001b[0m\n\u001b[0;32m      1\u001b[0m \u001b[1;32mimport\u001b[0m \u001b[0mpandas\u001b[0m \u001b[1;32mas\u001b[0m \u001b[0mpd\u001b[0m\u001b[1;33m\u001b[0m\u001b[1;33m\u001b[0m\u001b[0m\n\u001b[0;32m      2\u001b[0m \u001b[1;32mimport\u001b[0m \u001b[0mnumpy\u001b[0m \u001b[1;32mas\u001b[0m \u001b[0mnp\u001b[0m\u001b[1;33m\u001b[0m\u001b[1;33m\u001b[0m\u001b[0m\n\u001b[1;32m----> 3\u001b[1;33m \u001b[1;32mimport\u001b[0m \u001b[0mspacy\u001b[0m\u001b[1;33m\u001b[0m\u001b[1;33m\u001b[0m\u001b[0m\n\u001b[0m\u001b[0;32m      4\u001b[0m \u001b[0mEN\u001b[0m \u001b[1;33m=\u001b[0m \u001b[0mspacy\u001b[0m\u001b[1;33m.\u001b[0m\u001b[0mload\u001b[0m\u001b[1;33m(\u001b[0m\u001b[1;34m'en_core_web_sm'\u001b[0m\u001b[1;33m)\u001b[0m\u001b[1;33m\u001b[0m\u001b[1;33m\u001b[0m\u001b[0m\n\u001b[0;32m      5\u001b[0m \u001b[0mdf\u001b[0m \u001b[1;33m=\u001b[0m \u001b[0mpd\u001b[0m\u001b[1;33m.\u001b[0m\u001b[0mread_csv\u001b[0m\u001b[1;33m(\u001b[0m\u001b[1;34m'C:/Users/sai ganesh reddy/Desktop/Original_data.csv'\u001b[0m\u001b[1;33m)\u001b[0m\u001b[1;33m\u001b[0m\u001b[1;33m\u001b[0m\u001b[0m\n",
      "\u001b[1;31mModuleNotFoundError\u001b[0m: No module named 'spacy'"
     ]
    }
   ],
   "source": [
    "import pandas as pd\n",
    "import numpy as np\n",
    "import spacy\n",
    "EN = spacy.load('en_core_web_sm')\n",
    "df = pd.read_csv('C:/Users/sai ganesh reddy/Desktop/Original_data.csv')\n",
    "df.head()"
   ]
  },
  {
   "cell_type": "code",
   "execution_count": 2,
   "metadata": {},
   "outputs": [
    {
     "ename": "NameError",
     "evalue": "name 'df' is not defined",
     "output_type": "error",
     "traceback": [
      "\u001b[1;31m---------------------------------------------------------------------------\u001b[0m",
      "\u001b[1;31mNameError\u001b[0m                                 Traceback (most recent call last)",
      "\u001b[1;32m<ipython-input-2-c5f9c624f230>\u001b[0m in \u001b[0;36m<module>\u001b[1;34m\u001b[0m\n\u001b[1;32m----> 1\u001b[1;33m \u001b[0mprint\u001b[0m\u001b[1;33m(\u001b[0m\u001b[1;34m'Datebase shape:'\u001b[0m \u001b[1;33m+\u001b[0m \u001b[0mstr\u001b[0m\u001b[1;33m(\u001b[0m\u001b[0mdf\u001b[0m\u001b[1;33m.\u001b[0m\u001b[0mshape\u001b[0m\u001b[1;33m)\u001b[0m\u001b[1;33m)\u001b[0m\u001b[1;33m\u001b[0m\u001b[1;33m\u001b[0m\u001b[0m\n\u001b[0m",
      "\u001b[1;31mNameError\u001b[0m: name 'df' is not defined"
     ]
    }
   ],
   "source": [
    "print('Datebase shape:' + str(df.shape))"
   ]
  },
  {
   "cell_type": "markdown",
   "metadata": {},
   "source": [
    "## Missing Values"
   ]
  },
  {
   "cell_type": "markdown",
   "metadata": {},
   "source": [
    "No missing values detected in any of the columns"
   ]
  },
  {
   "cell_type": "code",
   "execution_count": 3,
   "metadata": {},
   "outputs": [
    {
     "data": {
      "text/plain": [
       "id         0\n",
       "title      0\n",
       "body       0\n",
       "tags       0\n",
       "answers    0\n",
       "score      0\n",
       "dtype: int64"
      ]
     },
     "execution_count": 3,
     "metadata": {},
     "output_type": "execute_result"
    }
   ],
   "source": [
    "df.isna().sum()"
   ]
  },
  {
   "cell_type": "markdown",
   "metadata": {},
   "source": [
    "## Database Manipulation"
   ]
  },
  {
   "cell_type": "markdown",
   "metadata": {},
   "source": [
    "In order to construct a corpus, I grouped all the answers by concatenating them based on their common questions and tags. Moreover, I added the scores for each answer in order to get a collective score for an entire question"
   ]
  },
  {
   "cell_type": "code",
   "execution_count": 99,
   "metadata": {},
   "outputs": [
    {
     "name": "stderr",
     "output_type": "stream",
     "text": [
      "C:\\Users\\Rohit\\Anaconda3\\envs\\deeplearning\\lib\\site-packages\\pandas\\core\\groupby\\generic.py:1315: FutureWarning: using a dict with renaming is deprecated and will be removed in a future version\n",
      "  return super(DataFrameGroupBy, self).aggregate(arg, *args, **kwargs)\n"
     ]
    }
   ],
   "source": [
    "# concat answers for each post\n",
    "aggregations = {\n",
    "    'answers':{\n",
    "        'combined_answers': lambda x: \"\\n\".join(x)\n",
    "    },\n",
    "    'score':{\n",
    "        'combined_score': 'sum'\n",
    "    }\n",
    "}\n",
    "grouped = df.groupby(['id','title', 'body','tags'],as_index=False).agg(aggregations)\n",
    "deduped_df = pd.DataFrame(grouped)"
   ]
  },
  {
   "cell_type": "code",
   "execution_count": 100,
   "metadata": {},
   "outputs": [
    {
     "data": {
      "text/html": [
       "<div>\n",
       "<style scoped>\n",
       "    .dataframe tbody tr th:only-of-type {\n",
       "        vertical-align: middle;\n",
       "    }\n",
       "\n",
       "    .dataframe tbody tr th {\n",
       "        vertical-align: top;\n",
       "    }\n",
       "\n",
       "    .dataframe thead tr th {\n",
       "        text-align: left;\n",
       "    }\n",
       "</style>\n",
       "<table border=\"1\" class=\"dataframe\">\n",
       "  <thead>\n",
       "    <tr>\n",
       "      <th></th>\n",
       "      <th>id</th>\n",
       "      <th>title</th>\n",
       "      <th>body</th>\n",
       "      <th>tags</th>\n",
       "      <th>answers</th>\n",
       "      <th>score</th>\n",
       "    </tr>\n",
       "    <tr>\n",
       "      <th></th>\n",
       "      <th></th>\n",
       "      <th></th>\n",
       "      <th></th>\n",
       "      <th></th>\n",
       "      <th>combined_answers</th>\n",
       "      <th>combined_score</th>\n",
       "    </tr>\n",
       "  </thead>\n",
       "  <tbody>\n",
       "    <tr>\n",
       "      <th>0</th>\n",
       "      <td>469</td>\n",
       "      <td>How can I find the full path to a font from it...</td>\n",
       "      <td>&lt;p&gt;I am using the Photoshop's javascript API t...</td>\n",
       "      <td>python|macos|fonts|photoshop</td>\n",
       "      <td>&lt;p&gt;open up a terminal (Applications-&gt;Utilities...</td>\n",
       "      <td>39</td>\n",
       "    </tr>\n",
       "    <tr>\n",
       "      <th>1</th>\n",
       "      <td>594</td>\n",
       "      <td>cx_Oracle: How do I iterate over a result set?</td>\n",
       "      <td>&lt;p&gt;There are several ways to iterate over a re...</td>\n",
       "      <td>python|sql|database|oracle|cx-oracle</td>\n",
       "      <td>&lt;p&gt;The canonical way is to use the built-in cu...</td>\n",
       "      <td>68</td>\n",
       "    </tr>\n",
       "    <tr>\n",
       "      <th>2</th>\n",
       "      <td>742</td>\n",
       "      <td>Class views in Django</td>\n",
       "      <td>&lt;p&gt;&lt;a href=\"http://www.djangoproject.com/\" rel...</td>\n",
       "      <td>python|django|views|oop</td>\n",
       "      <td>&lt;p&gt;I needed to use class based views, but I wa...</td>\n",
       "      <td>75</td>\n",
       "    </tr>\n",
       "    <tr>\n",
       "      <th>3</th>\n",
       "      <td>766</td>\n",
       "      <td>Python and MySQL</td>\n",
       "      <td>&lt;p&gt;I can get Python to work with Postgresql bu...</td>\n",
       "      <td>python|mysql|postgresql|bpgsql</td>\n",
       "      <td>&lt;p&gt;I uploaded it and got an internal error&lt;/p&gt;...</td>\n",
       "      <td>48</td>\n",
       "    </tr>\n",
       "    <tr>\n",
       "      <th>4</th>\n",
       "      <td>1476</td>\n",
       "      <td>How do you express binary literals in Python?</td>\n",
       "      <td>&lt;p&gt;How do you express an integer as a binary n...</td>\n",
       "      <td>python|syntax|binary|integer|literals</td>\n",
       "      <td>&lt;pre&gt;&lt;code&gt;&amp;gt;&amp;gt;&amp;gt; print int('01010101111...</td>\n",
       "      <td>352</td>\n",
       "    </tr>\n",
       "  </tbody>\n",
       "</table>\n",
       "</div>"
      ],
      "text/plain": [
       "     id                                              title  \\\n",
       "                                                             \n",
       "0   469  How can I find the full path to a font from it...   \n",
       "1   594     cx_Oracle: How do I iterate over a result set?   \n",
       "2   742                              Class views in Django   \n",
       "3   766                                   Python and MySQL   \n",
       "4  1476      How do you express binary literals in Python?   \n",
       "\n",
       "                                                body  \\\n",
       "                                                       \n",
       "0  <p>I am using the Photoshop's javascript API t...   \n",
       "1  <p>There are several ways to iterate over a re...   \n",
       "2  <p><a href=\"http://www.djangoproject.com/\" rel...   \n",
       "3  <p>I can get Python to work with Postgresql bu...   \n",
       "4  <p>How do you express an integer as a binary n...   \n",
       "\n",
       "                                    tags  \\\n",
       "                                           \n",
       "0           python|macos|fonts|photoshop   \n",
       "1   python|sql|database|oracle|cx-oracle   \n",
       "2                python|django|views|oop   \n",
       "3         python|mysql|postgresql|bpgsql   \n",
       "4  python|syntax|binary|integer|literals   \n",
       "\n",
       "                                             answers          score  \n",
       "                                    combined_answers combined_score  \n",
       "0  <p>open up a terminal (Applications->Utilities...             39  \n",
       "1  <p>The canonical way is to use the built-in cu...             68  \n",
       "2  <p>I needed to use class based views, but I wa...             75  \n",
       "3  <p>I uploaded it and got an internal error</p>...             48  \n",
       "4  <pre><code>&gt;&gt;&gt; print int('01010101111...            352  "
      ]
     },
     "execution_count": 100,
     "metadata": {},
     "output_type": "execute_result"
    }
   ],
   "source": [
    "deduped_df.head()"
   ]
  },
  {
   "cell_type": "markdown",
   "metadata": {},
   "source": [
    "The following code block shows the result of combining answers and their scores"
   ]
  },
  {
   "cell_type": "code",
   "execution_count": 101,
   "metadata": {},
   "outputs": [
    {
     "name": "stdout",
     "output_type": "stream",
     "text": [
      "Max score before: \n",
      "5440\n",
      "Max score after: \n",
      "9730\n"
     ]
    }
   ],
   "source": [
    "print('Max score before: ') \n",
    "print(np.max(df.score.values))\n",
    "\n",
    "print('Max score after: ') \n",
    "print(np.max(deduped_df.score.values))"
   ]
  },
  {
   "cell_type": "markdown",
   "metadata": {},
   "source": [
    "A couple of helper functions for Text Preprocessing. The steps followed to process a piece of raw text are:\n",
    "\n",
    "1. Convert raw text into tokens\n",
    "2. Convert tokens to lower case\n",
    "3. Remove punctuations\n",
    "4. Remove Stopwords \n",
    "\n",
    "Note: I skipped removal of numeric data since I felt it would remove precious contextual information. I also skipped a 'Stemming/Lemmatization' step because I did not want alter the domain specific terms used in our corpus and risk losing precious information"
   ]
  },
  {
   "cell_type": "code",
   "execution_count": 102,
   "metadata": {},
   "outputs": [],
   "source": [
    "import re\n",
    "import nltk\n",
    "import inflect\n",
    "from nltk.corpus import stopwords\n",
    "\n",
    "def tokenize_text(text):\n",
    "    \"Apply tokenization using spacy to docstrings.\"\n",
    "    tokens = EN.tokenizer(text)\n",
    "    return [token.text.lower() for token in tokens if not token.is_space]\n",
    "\n",
    "def to_lowercase(words):\n",
    "    \"\"\"Convert all characters to lowercase from list of tokenized words\"\"\"\n",
    "    new_words = []\n",
    "    for word in words:\n",
    "        new_word = word.lower()\n",
    "        new_words.append(new_word)\n",
    "    return new_words\n",
    "\n",
    "def remove_punctuation(words):\n",
    "    \"\"\"Remove punctuation from list of tokenized words\"\"\"\n",
    "    new_words = []\n",
    "    for word in words:\n",
    "        new_word = re.sub(r'[^\\w\\s]', '', word)\n",
    "        if new_word != '':\n",
    "            new_words.append(new_word)\n",
    "    return new_words\n",
    "\n",
    "def remove_stopwords(words):\n",
    "    \"\"\"Remove stop words from list of tokenized words\"\"\"\n",
    "    new_words = []\n",
    "    for word in words:\n",
    "        if word not in stopwords.words('english'):\n",
    "            new_words.append(word)\n",
    "    return new_words\n",
    "\n",
    "def normalize(words):\n",
    "    words = to_lowercase(words)\n",
    "    words = remove_punctuation(words)\n",
    "    words = remove_stopwords(words)\n",
    "    return words\n",
    "\n",
    "def tokenize_code(text):\n",
    "    \"A very basic procedure for tokenizing code strings.\"\n",
    "    return RegexpTokenizer(r'\\w+').tokenize(text)\n",
    "\n",
    "def preprocess_text(text):\n",
    "    return ' '.join(normalize(tokenize_text(text)))"
   ]
  },
  {
   "cell_type": "markdown",
   "metadata": {},
   "source": [
    "**The raw text for Questions and Answers is given along with the HTML markup with which it was displayed on StackOverflow originally**. \n",
    "These refer usually to *p tags, h1-h6 tags and the code tags*\n",
    "\n",
    "- I constructed a new feature column called 'post_corpus' by combining the title, question body, and all the answers\n",
    "- I prepended the title to the question body \n",
    "- I skipped the 'code' sections because they do not offer useful information for our task\n",
    "- I constructed urls for each question by appending 'https://stackoverflow.com/questions/' with the question id\n",
    "- I constructed 2 features for sentiment using the open Source **Textblob library** "
   ]
  },
  {
   "cell_type": "code",
   "execution_count": 103,
   "metadata": {},
   "outputs": [],
   "source": [
    "from bs4 import BeautifulSoup\n",
    "from textblob import TextBlob\n",
    "\n",
    "title_list = [] \n",
    "content_list = []\n",
    "url_list = []\n",
    "comment_list = []\n",
    "sentiment_polarity_list = []\n",
    "sentiment_subjectivity_list = []\n",
    "vote_list =[]\n",
    "tag_list = []\n",
    "corpus_list = []\n",
    "\n",
    "for i, row in deduped_df.iterrows():\n",
    "    title_list.append(row.title.values[0])    # Get question title\n",
    "    tag_list.append(row.tags.values[0])     # Get question tags\n",
    "    \n",
    "    # Questions\n",
    "    content = row.body.values[0]\n",
    "    soup = BeautifulSoup(content, 'lxml')\n",
    "    if soup.code: soup.code.decompose()     # Remove the code section\n",
    "    tag_p = soup.p\n",
    "    tag_pre = soup.pre\n",
    "    text = ''\n",
    "    if tag_p: text = text + tag_p.get_text()\n",
    "    if tag_pre: text = text + tag_pre.get_text()\n",
    "        \n",
    "    content_list.append(str(row.title.values[0]) + ' ' + str(text))   # Append title and question body data to the updated question body\n",
    "    \n",
    "    url_list.append('https://stackoverflow.com/questions/' + str(row.id.values[0]))\n",
    "    \n",
    "    # Answers\n",
    "    content = row.answers.values[0]\n",
    "    soup = BeautifulSoup(content, 'lxml')\n",
    "    if soup.code: soup.code.decompose()\n",
    "    tag_p = soup.p\n",
    "    tag_pre = soup.pre\n",
    "    text = ''\n",
    "    if tag_p: text = text + tag_p.get_text()\n",
    "    if tag_pre: text = text + tag_pre.get_text()\n",
    "    comment_list.append(text)\n",
    "    \n",
    "    vote_list.append(row.score.values[0])       # Append votes\n",
    "    \n",
    "    corpus_list.append(content_list[-1] + ' ' + comment_list[-1])     # Combine the updated body and answers to make the corpus\n",
    "    \n",
    "    sentiment = TextBlob(row.answers.values[0]).sentiment\n",
    "    sentiment_polarity_list.append(sentiment.polarity)\n",
    "    sentiment_subjectivity_list.append(sentiment.subjectivity)\n",
    "\n",
    "content_token_df = pd.DataFrame({'original_title': title_list, 'post_corpus': corpus_list, 'question_content': content_list, 'question_url': url_list, 'tags': tag_list, 'overall_scores':vote_list,'answers_content': comment_list, 'sentiment_polarity': sentiment_polarity_list, 'sentiment_subjectivity':sentiment_subjectivity_list})"
   ]
  },
  {
   "cell_type": "code",
   "execution_count": 105,
   "metadata": {},
   "outputs": [
    {
     "data": {
      "text/html": [
       "<div>\n",
       "<style scoped>\n",
       "    .dataframe tbody tr th:only-of-type {\n",
       "        vertical-align: middle;\n",
       "    }\n",
       "\n",
       "    .dataframe tbody tr th {\n",
       "        vertical-align: top;\n",
       "    }\n",
       "\n",
       "    .dataframe thead th {\n",
       "        text-align: right;\n",
       "    }\n",
       "</style>\n",
       "<table border=\"1\" class=\"dataframe\">\n",
       "  <thead>\n",
       "    <tr style=\"text-align: right;\">\n",
       "      <th></th>\n",
       "      <th>original_title</th>\n",
       "      <th>post_corpus</th>\n",
       "      <th>question_content</th>\n",
       "      <th>question_url</th>\n",
       "      <th>tags</th>\n",
       "      <th>overall_scores</th>\n",
       "      <th>answers_content</th>\n",
       "      <th>sentiment_polarity</th>\n",
       "      <th>sentiment_subjectivity</th>\n",
       "    </tr>\n",
       "  </thead>\n",
       "  <tbody>\n",
       "    <tr>\n",
       "      <th>0</th>\n",
       "      <td>How can I find the full path to a font from it...</td>\n",
       "      <td>How can I find the full path to a font from it...</td>\n",
       "      <td>How can I find the full path to a font from it...</td>\n",
       "      <td>https://stackoverflow.com/questions/469</td>\n",
       "      <td>python|macos|fonts|photoshop</td>\n",
       "      <td>39</td>\n",
       "      <td>open up a terminal (Applications-&gt;Utilities-&gt;T...</td>\n",
       "      <td>0.116667</td>\n",
       "      <td>0.554167</td>\n",
       "    </tr>\n",
       "    <tr>\n",
       "      <th>1</th>\n",
       "      <td>cx_Oracle: How do I iterate over a result set?</td>\n",
       "      <td>cx_Oracle: How do I iterate over a result set?...</td>\n",
       "      <td>cx_Oracle: How do I iterate over a result set?...</td>\n",
       "      <td>https://stackoverflow.com/questions/594</td>\n",
       "      <td>python|sql|database|oracle|cx-oracle</td>\n",
       "      <td>68</td>\n",
       "      <td>The canonical way is to use the built-in curso...</td>\n",
       "      <td>0.010082</td>\n",
       "      <td>0.423400</td>\n",
       "    </tr>\n",
       "    <tr>\n",
       "      <th>2</th>\n",
       "      <td>Class views in Django</td>\n",
       "      <td>Class views in Django Django view points to a ...</td>\n",
       "      <td>Class views in Django Django view points to a ...</td>\n",
       "      <td>https://stackoverflow.com/questions/742</td>\n",
       "      <td>python|django|views|oop</td>\n",
       "      <td>75</td>\n",
       "      <td>I needed to use class based views, but I wante...</td>\n",
       "      <td>0.080339</td>\n",
       "      <td>0.439853</td>\n",
       "    </tr>\n",
       "    <tr>\n",
       "      <th>3</th>\n",
       "      <td>Python and MySQL</td>\n",
       "      <td>Python and MySQL I can get Python to work with...</td>\n",
       "      <td>Python and MySQL I can get Python to work with...</td>\n",
       "      <td>https://stackoverflow.com/questions/766</td>\n",
       "      <td>python|mysql|postgresql|bpgsql</td>\n",
       "      <td>48</td>\n",
       "      <td>I uploaded it and got an internal error</td>\n",
       "      <td>0.187500</td>\n",
       "      <td>0.390675</td>\n",
       "    </tr>\n",
       "    <tr>\n",
       "      <th>4</th>\n",
       "      <td>How do you express binary literals in Python?</td>\n",
       "      <td>How do you express binary literals in Python? ...</td>\n",
       "      <td>How do you express binary literals in Python? ...</td>\n",
       "      <td>https://stackoverflow.com/questions/1476</td>\n",
       "      <td>python|syntax|binary|integer|literals</td>\n",
       "      <td>352</td>\n",
       "      <td>Another way.</td>\n",
       "      <td>-0.064497</td>\n",
       "      <td>0.605969</td>\n",
       "    </tr>\n",
       "  </tbody>\n",
       "</table>\n",
       "</div>"
      ],
      "text/plain": [
       "                                      original_title  \\\n",
       "0  How can I find the full path to a font from it...   \n",
       "1     cx_Oracle: How do I iterate over a result set?   \n",
       "2                              Class views in Django   \n",
       "3                                   Python and MySQL   \n",
       "4      How do you express binary literals in Python?   \n",
       "\n",
       "                                         post_corpus  \\\n",
       "0  How can I find the full path to a font from it...   \n",
       "1  cx_Oracle: How do I iterate over a result set?...   \n",
       "2  Class views in Django Django view points to a ...   \n",
       "3  Python and MySQL I can get Python to work with...   \n",
       "4  How do you express binary literals in Python? ...   \n",
       "\n",
       "                                    question_content  \\\n",
       "0  How can I find the full path to a font from it...   \n",
       "1  cx_Oracle: How do I iterate over a result set?...   \n",
       "2  Class views in Django Django view points to a ...   \n",
       "3  Python and MySQL I can get Python to work with...   \n",
       "4  How do you express binary literals in Python? ...   \n",
       "\n",
       "                               question_url  \\\n",
       "0   https://stackoverflow.com/questions/469   \n",
       "1   https://stackoverflow.com/questions/594   \n",
       "2   https://stackoverflow.com/questions/742   \n",
       "3   https://stackoverflow.com/questions/766   \n",
       "4  https://stackoverflow.com/questions/1476   \n",
       "\n",
       "                                    tags  overall_scores  \\\n",
       "0           python|macos|fonts|photoshop              39   \n",
       "1   python|sql|database|oracle|cx-oracle              68   \n",
       "2                python|django|views|oop              75   \n",
       "3         python|mysql|postgresql|bpgsql              48   \n",
       "4  python|syntax|binary|integer|literals             352   \n",
       "\n",
       "                                     answers_content  sentiment_polarity  \\\n",
       "0  open up a terminal (Applications->Utilities->T...            0.116667   \n",
       "1  The canonical way is to use the built-in curso...            0.010082   \n",
       "2  I needed to use class based views, but I wante...            0.080339   \n",
       "3            I uploaded it and got an internal error            0.187500   \n",
       "4                                       Another way.           -0.064497   \n",
       "\n",
       "   sentiment_subjectivity  \n",
       "0                0.554167  \n",
       "1                0.423400  \n",
       "2                0.439853  \n",
       "3                0.390675  \n",
       "4                0.605969  "
      ]
     },
     "execution_count": 105,
     "metadata": {},
     "output_type": "execute_result"
    }
   ],
   "source": [
    "content_token_df.head()"
   ]
  },
  {
   "cell_type": "markdown",
   "metadata": {},
   "source": [
    "## Filter for only the most common tags"
   ]
  },
  {
   "cell_type": "markdown",
   "metadata": {},
   "source": [
    "Each post has a variable number of different tags. In order to narrow down the vast choices for a more accurate model"
   ]
  },
  {
   "cell_type": "code",
   "execution_count": 106,
   "metadata": {},
   "outputs": [],
   "source": [
    "content_token_df.tags = content_token_df.tags.apply(lambda x: x.split('|'))   # Convert raw text data of tags into lists\n",
    "\n",
    "# Make a dictionary to count the frequencies for all tags\n",
    "tag_freq_dict = {}\n",
    "for tags in content_token_df.tags:\n",
    "    for tag in tags:\n",
    "        if tag not in tag_freq_dict:\n",
    "            tag_freq_dict[tag] = 0\n",
    "        else:\n",
    "            tag_freq_dict[tag] += 1"
   ]
  },
  {
   "cell_type": "markdown",
   "metadata": {},
   "source": [
    "As a personal choice, I decided to with **20 most common tags**, which are shown below"
   ]
  },
  {
   "cell_type": "code",
   "execution_count": 107,
   "metadata": {},
   "outputs": [],
   "source": [
    "import heapq\n",
    "most_common_tags = heapq.nlargest(20, tag_freq_dict, key=tag_freq_dict.get)"
   ]
  },
  {
   "cell_type": "code",
   "execution_count": 108,
   "metadata": {},
   "outputs": [
    {
     "data": {
      "text/plain": [
       "['python',\n",
       " 'python-3.x',\n",
       " 'django',\n",
       " 'pandas',\n",
       " 'python-2.7',\n",
       " 'numpy',\n",
       " 'list',\n",
       " 'matplotlib',\n",
       " 'dictionary',\n",
       " 'regex',\n",
       " 'dataframe',\n",
       " 'tkinter',\n",
       " 'string',\n",
       " 'csv',\n",
       " 'flask',\n",
       " 'arrays',\n",
       " 'tensorflow',\n",
       " 'json',\n",
       " 'beautifulsoup',\n",
       " 'selenium']"
      ]
     },
     "execution_count": 108,
     "metadata": {},
     "output_type": "execute_result"
    }
   ],
   "source": [
    "most_common_tags"
   ]
  },
  {
   "cell_type": "markdown",
   "metadata": {},
   "source": [
    "The plan is to filter only the data which contains at least one of most_common_tags "
   ]
  },
  {
   "cell_type": "code",
   "execution_count": 109,
   "metadata": {},
   "outputs": [],
   "source": [
    "final_indices = []\n",
    "for i,tags in enumerate(content_token_df.tags.values.tolist()):\n",
    "    if len(set(tags).intersection(set(most_common_tags)))>1:   # The minimum length for common tags should be 2 because 'python' is a common tag for all\n",
    "        final_indices.append(i)"
   ]
  },
  {
   "cell_type": "code",
   "execution_count": 110,
   "metadata": {},
   "outputs": [],
   "source": [
    "final_data = content_token_df.iloc[final_indices]"
   ]
  },
  {
   "cell_type": "markdown",
   "metadata": {},
   "source": [
    "## Data Normalization"
   ]
  },
  {
   "cell_type": "markdown",
   "metadata": {},
   "source": [
    "- I created a separate column for the 'processed_title' because I wanted to preserve the original title because I wanted to serve the original titles in the app\n",
    "- I also normalized the numeric 'scores'"
   ]
  },
  {
   "cell_type": "code",
   "execution_count": 111,
   "metadata": {},
   "outputs": [
    {
     "name": "stderr",
     "output_type": "stream",
     "text": [
      "\n",
      "KeyboardInterrupt\n",
      "\n"
     ]
    }
   ],
   "source": [
    "import spacy\n",
    "EN = spacy.load('en_core_web_sm')\n",
    "\n",
    "# Preprocess text for 'question_body', 'post_corpus' and a new column 'processed_title'\n",
    "final_data.question_content = final_data.question_content.apply(lambda x: preprocess_text(x))\n",
    "final_data.post_corpus = final_data.post_corpus.apply(lambda x: preprocess_text(x))\n",
    "final_data['processed_title'] = final_data.original_title.apply(lambda x: preprocess_text(x))\n",
    "\n",
    "# Normalize numeric data for the scores\n",
    "final_data.overall_scores = (final_data.overall_scores - final_data.overall_scores.mean()) / (final_data.overall_scores.max() - final_data.overall_scores.min())"
   ]
  },
  {
   "cell_type": "code",
   "execution_count": null,
   "metadata": {},
   "outputs": [],
   "source": [
    "final_data.tags = final_data.tags.apply(lambda x: '|'.join(x))    # Combine the lists back into text data\n",
    "final_data.drop(['answers_content'], axis=1)     # Remove the answers_content columns because it is alreaady included in the corpus"
   ]
  },
  {
   "cell_type": "code",
   "execution_count": null,
   "metadata": {},
   "outputs": [],
   "source": [
    "# Save the data\n",
    "final_data.to_csv('data/Preprocessed_data.csv', index=False)"
   ]
  }
 ],
 "metadata": {
  "kernelspec": {
   "display_name": "Python 3",
   "language": "python",
   "name": "python3"
  },
  "language_info": {
   "codemirror_mode": {
    "name": "ipython",
    "version": 3
   },
   "file_extension": ".py",
   "mimetype": "text/x-python",
   "name": "python",
   "nbconvert_exporter": "python",
   "pygments_lexer": "ipython3",
   "version": "3.7.4"
  }
 },
 "nbformat": 4,
 "nbformat_minor": 2
}
